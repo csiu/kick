{
 "cells": [
  {
   "cell_type": "markdown",
   "metadata": {},
   "source": [
    "**Goal:** Be able to download the latest data from https://webrobots.io/kickstarter-datasets/"
   ]
  },
  {
   "cell_type": "markdown",
   "metadata": {},
   "source": [
    "### Checking for latest version & getting link"
   ]
  },
  {
   "cell_type": "code",
   "execution_count": 1,
   "metadata": {
    "collapsed": false
   },
   "outputs": [],
   "source": [
    "from bs4 import BeautifulSoup\n",
    "import requests"
   ]
  },
  {
   "cell_type": "code",
   "execution_count": 2,
   "metadata": {
    "collapsed": true
   },
   "outputs": [],
   "source": [
    "the_url = \"https://webrobots.io/kickstarter-datasets\""
   ]
  },
  {
   "cell_type": "code",
   "execution_count": 3,
   "metadata": {
    "collapsed": false
   },
   "outputs": [],
   "source": [
    "r = requests.get(the_url)\n",
    "soup = BeautifulSoup(r.text, \"html5lib\")"
   ]
  },
  {
   "cell_type": "code",
   "execution_count": 4,
   "metadata": {
    "collapsed": false
   },
   "outputs": [
    {
     "name": "stdout",
     "output_type": "stream",
     "text": [
      "2017-03-15\n",
      "https://s3.amazonaws.com/weruns/forfun/Kickstarter/Kickstarter_2017-03-15T22_20_55_874Z.zip\n"
     ]
    }
   ],
   "source": [
    "latest = soup.body.find(\"div\", {\"id\": \"main\"}).find(\"li\")\n",
    "\n",
    "latest_date = latest.text.split(' ', 1)[0]\n",
    "latest_json, latest_csv = [v[\"href\"] for v in latest.find_all(\"a\")]\n",
    "\n",
    "print(latest_date)\n",
    "print(latest_csv)"
   ]
  },
  {
   "cell_type": "markdown",
   "metadata": {},
   "source": [
    "### Download data"
   ]
  },
  {
   "cell_type": "markdown",
   "metadata": {},
   "source": [
    "```python\n",
    "import requests, zipfile, io\n",
    "import os\n",
    "\n",
    "zip_file_url = latest_csv\n",
    "\n",
    "download_dir = \"/Users/csiu/repo/kick/src/ipynb/test\"\n",
    "download_version = \"_version.\" + latest_date\n",
    "download_version = os.path.join(download_dir, download_version)\n",
    "\n",
    "# Download zip files\n",
    "r = requests.get(zip_file_url)\n",
    "z = zipfile.ZipFile(io.BytesIO(r.content))\n",
    "z.extractall(download_dir)\n",
    "\n",
    "# Tag the downloaded version\n",
    "open(download_version, 'a').close()\n",
    "```"
   ]
  },
  {
   "cell_type": "markdown",
   "metadata": {},
   "source": [
    "### Have some caching\n",
    "\n",
    "I want the algorithm to do the following:\n",
    "\n",
    "- If files have not been downloaded, then download files\n",
    "- If latest version is newer than downloaded files, then download the new version else do nothing\n",
    "\n",
    "----\n",
    "\n",
    "### The script"
   ]
  },
  {
   "cell_type": "markdown",
   "metadata": {},
   "source": [
    "```python\n",
    "import argparse\n",
    "from bs4 import BeautifulSoup\n",
    "import requests\n",
    "import zipfile\n",
    "import io\n",
    "import os\n",
    "import glob\n",
    "import datetime\n",
    "\n",
    "usage = \"\"\"\n",
    "Download Kickstarter data from https://webrobots.io/kickstarter-datasets/\n",
    "\"\"\"\n",
    "\n",
    "def getargs():\n",
    "    parser = argparse.ArgumentParser(description=usage)\n",
    "    parser.add_argument('datadir', help=\"/dir/path to store downloaded files\")\n",
    "    args = parser.parse_args()\n",
    "    return args\n",
    "\n",
    "def download_zipfile(zip_file_url, download_dir):\n",
    "    r = requests.get(zip_file_url)\n",
    "    z = zipfile.ZipFile(io.BytesIO(r.content))\n",
    "    z.extractall(download_dir)\n",
    "\n",
    "def convert_str2date(yyyymmdd):\n",
    "    return(datetime.datetime.strptime(yyyymmdd, '%Y-%m-%d'))\n",
    "\n",
    "def ensure_dir(directory):\n",
    "    directory = os.path.abspath(directory)\n",
    "    if not os.path.exists(directory):\n",
    "        os.makedirs(directory)\n",
    "    return(directory)\n",
    "\n",
    "class DownloadData:\n",
    "    def __init__(self, datadir):\n",
    "        self.url = \"https://webrobots.io/kickstarter-datasets\"\n",
    "        self.download_dir = ensure_dir(datadir)\n",
    "\n",
    "    def _check_latest(self):\n",
    "        \"\"\"\n",
    "        Returns (1) the latest date data was scrapped & (2) link to CSV file\n",
    "        \"\"\"\n",
    "        r = requests.get(self.url)\n",
    "        soup = BeautifulSoup(r.text, \"html5lib\")\n",
    "\n",
    "        latest = soup.body.find(\"div\", {\"id\": \"main\"}).find(\"li\")\n",
    "        latest_date = latest.text.split(' ', 1)[0]\n",
    "        latest_json, latest_csv = [v[\"href\"] for v in latest.find_all(\"a\")]\n",
    "\n",
    "        self.webrobot_date = latest_date\n",
    "        self.webrobot_file = latest_csv\n",
    "        return(self)\n",
    "\n",
    "    def _download(self):\n",
    "        \"\"\"\n",
    "        Download CSV file to download_dir and add a version\n",
    "        \"\"\"\n",
    "        # Download files\n",
    "        download_zipfile(self.webrobot_file, self.download_dir)\n",
    "\n",
    "        # Tag the downloaded version\n",
    "        download_version = \"_version.\" + self.webrobot_date\n",
    "        download_version = os.path.join(self.download_dir, download_version)\n",
    "        open(download_version, 'a').close()\n",
    "\n",
    "    def _check_data_download(self):\n",
    "        if os.path.exists(self.download_dir):\n",
    "            version = glob.glob(os.path.join(self.download_dir, \"_version.*\"))\n",
    "            if version:\n",
    "                version = os.path.basename(version[0]).split(r\".\", 1)[1]\n",
    "                return(version)\n",
    "            else:\n",
    "                return(None)\n",
    "        else:\n",
    "            return(None)\n",
    "\n",
    "    def get(self):\n",
    "        self = self._check_latest()\n",
    "\n",
    "        date_latest = self.webrobot_date\n",
    "        date_download = self._check_data_download()\n",
    "\n",
    "        if date_download is None:\n",
    "            print(\"Downloading version:'%s'...\" % date_latest)\n",
    "            self._download()\n",
    "        else:\n",
    "            # Convert to date objects\n",
    "            date_latest = convert_str2date(date_latest)\n",
    "            date_download = convert_str2date(date_download)\n",
    "\n",
    "            # latest date is newer than scrape date then Download\n",
    "            # else do nothing\n",
    "            if date_latest > date_download:\n",
    "                print(\"Downloading version:'%s'...\" % date_latest)\n",
    "                self._download()\n",
    "            else:\n",
    "                print(\"Nothing to do;\",\n",
    "                      \"latest version:'%s' is already downloaded\" %\n",
    "                      date_latest.date())\n",
    "\n",
    "if __name__ == '__main__':\n",
    "    args = getargs()\n",
    "    DownloadData(args.datadir).get()\n",
    "\n",
    "```"
   ]
  }
 ],
 "metadata": {
  "kernelspec": {
   "display_name": "Python 3",
   "language": "python",
   "name": "python3"
  },
  "language_info": {
   "codemirror_mode": {
    "name": "ipython",
    "version": 3
   },
   "file_extension": ".py",
   "mimetype": "text/x-python",
   "name": "python",
   "nbconvert_exporter": "python",
   "pygments_lexer": "ipython3",
   "version": "3.6.1"
  }
 },
 "nbformat": 4,
 "nbformat_minor": 2
}
