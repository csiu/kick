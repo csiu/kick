{
 "cells": [
  {
   "cell_type": "code",
   "execution_count": 1,
   "metadata": {
    "collapsed": true
   },
   "outputs": [],
   "source": [
    "import numpy as np\n",
    "from scipy.sparse import csr_matrix\n",
    "\n",
    "def save_sparse_csr(filename, array):\n",
    "    # note that .npz extension is added automatically\n",
    "    np.savez(filename, data=array.data, indices=array.indices,\n",
    "             indptr=array.indptr, shape=array.shape)\n",
    "\n",
    "def load_sparse_csr(filename):\n",
    "    # here we need to add .npz extension manually\n",
    "    loader = np.load(filename + '.npz')\n",
    "    return csr_matrix((loader['data'], loader['indices'], loader['indptr']),\n",
    "                      shape=loader['shape'])"
   ]
  },
  {
   "cell_type": "code",
   "execution_count": 2,
   "metadata": {
    "collapsed": true
   },
   "outputs": [],
   "source": [
    "wc_file = \"../../data/documents/word_counts.txt\"\n",
    "X = load_sparse_csr(wc_file)"
   ]
  },
  {
   "cell_type": "markdown",
   "metadata": {},
   "source": [
    "### SVD with Scikit-learn"
   ]
  },
  {
   "cell_type": "code",
   "execution_count": 3,
   "metadata": {
    "collapsed": false
   },
   "outputs": [
    {
     "data": {
      "text/plain": [
       "TruncatedSVD(algorithm='randomized', n_components=100, n_iter=5,\n",
       "       random_state=5, tol=0.0)"
      ]
     },
     "execution_count": 3,
     "metadata": {},
     "output_type": "execute_result"
    }
   ],
   "source": [
    "from sklearn.decomposition import TruncatedSVD\n",
    "\n",
    "svd = TruncatedSVD(n_components=100, random_state=5)\n",
    "\n",
    "svd.fit(X)"
   ]
  },
  {
   "cell_type": "markdown",
   "metadata": {},
   "source": [
    "It didn't crash!"
   ]
  },
  {
   "cell_type": "code",
   "execution_count": 4,
   "metadata": {
    "collapsed": false
   },
   "outputs": [
    {
     "name": "stdout",
     "output_type": "stream",
     "text": [
      "(177140, 100)\n"
     ]
    },
    {
     "data": {
      "text/plain": [
       "array([[ 0.33195896, -0.14014558, -0.07146808, ...,  0.04157464,\n",
       "         0.22544143, -0.1791284 ],\n",
       "       [ 0.27524292, -0.35492953, -0.26604158, ...,  0.02714783,\n",
       "        -0.33951171,  0.14421771],\n",
       "       [ 0.87030143, -1.05706501,  0.04199029, ...,  0.05837507,\n",
       "         0.18249266,  0.32320418],\n",
       "       ..., \n",
       "       [ 0.10661509, -0.13295076, -0.09141061, ..., -0.15282697,\n",
       "         0.02647602,  0.06981038],\n",
       "       [ 0.15230048, -0.20636379, -0.16772075, ...,  0.0375541 ,\n",
       "        -0.01315718,  0.01197927],\n",
       "       [ 0.33925433, -0.47067816, -0.41242699, ..., -0.09150298,\n",
       "         0.23343678,  0.08946104]])"
      ]
     },
     "execution_count": 4,
     "metadata": {},
     "output_type": "execute_result"
    }
   ],
   "source": [
    "svd = TruncatedSVD(n_components=100, random_state=5)\n",
    "\n",
    "# Fit LSI model to X and perform dimensionality reduction on X.\n",
    "X_new = svd.fit_transform(X)\n",
    "\n",
    "print(X_new.shape)\n",
    "X_new"
   ]
  },
  {
   "cell_type": "markdown",
   "metadata": {},
   "source": [
    "### Getting U, Sigma, V\n",
    "\n",
    "Now I want to get the individual matrices\n",
    "\n",
    "Ref: http://stackoverflow.com/questions/31523575/get-u-sigma-v-matrix-from-truncated-svd-in-scikit-learn"
   ]
  },
  {
   "cell_type": "code",
   "execution_count": 5,
   "metadata": {
    "collapsed": true
   },
   "outputs": [],
   "source": [
    "from sklearn.utils.extmath import randomized_svd\n",
    "\n",
    "U, s, Vh = randomized_svd(X, n_components=100, n_iter=5, random_state=5)"
   ]
  },
  {
   "cell_type": "code",
   "execution_count": 6,
   "metadata": {
    "collapsed": false
   },
   "outputs": [
    {
     "data": {
      "text/plain": [
       "((177140, 100), (100,), (100, 99946))"
      ]
     },
     "execution_count": 6,
     "metadata": {},
     "output_type": "execute_result"
    }
   ],
   "source": [
    "U.shape, s.shape, Vh.shape"
   ]
  }
 ],
 "metadata": {
  "kernelspec": {
   "display_name": "Python 3",
   "language": "python",
   "name": "python3"
  },
  "language_info": {
   "codemirror_mode": {
    "name": "ipython",
    "version": 3
   },
   "file_extension": ".py",
   "mimetype": "text/x-python",
   "name": "python",
   "nbconvert_exporter": "python",
   "pygments_lexer": "ipython3",
   "version": "3.6.1"
  }
 },
 "nbformat": 4,
 "nbformat_minor": 2
}
