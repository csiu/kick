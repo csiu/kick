{
 "cells": [
  {
   "cell_type": "code",
   "execution_count": 1,
   "metadata": {
    "collapsed": true
   },
   "outputs": [],
   "source": [
    "import sys\n",
    "sys.path.append(\"/Users/csiu/repo/kick/src/python\")"
   ]
  },
  {
   "cell_type": "code",
   "execution_count": 2,
   "metadata": {
    "collapsed": true
   },
   "outputs": [],
   "source": [
    "import custom\n",
    "import sim_doc\n",
    "\n",
    "import pandas as pd\n",
    "import numpy as np"
   ]
  },
  {
   "cell_type": "code",
   "execution_count": 3,
   "metadata": {
    "collapsed": true
   },
   "outputs": [],
   "source": [
    "%matplotlib inline"
   ]
  },
  {
   "cell_type": "code",
   "execution_count": 4,
   "metadata": {
    "collapsed": true
   },
   "outputs": [],
   "source": [
    "import seaborn as sns"
   ]
  },
  {
   "cell_type": "code",
   "execution_count": 5,
   "metadata": {
    "collapsed": false
   },
   "outputs": [
    {
     "data": {
      "text/html": [
       "<div>\n",
       "<table border=\"1\" class=\"dataframe\">\n",
       "  <thead>\n",
       "    <tr style=\"text-align: right;\">\n",
       "      <th></th>\n",
       "      <th>topic</th>\n",
       "      <th>n</th>\n",
       "    </tr>\n",
       "  </thead>\n",
       "  <tbody>\n",
       "    <tr>\n",
       "      <th>39</th>\n",
       "      <td>Web</td>\n",
       "      <td>4476</td>\n",
       "    </tr>\n",
       "    <tr>\n",
       "      <th>14</th>\n",
       "      <td>Apps</td>\n",
       "      <td>4000</td>\n",
       "    </tr>\n",
       "    <tr>\n",
       "      <th>126</th>\n",
       "      <td>Children's Books</td>\n",
       "      <td>4000</td>\n",
       "    </tr>\n",
       "    <tr>\n",
       "      <th>100</th>\n",
       "      <td>Indie Rock</td>\n",
       "      <td>4000</td>\n",
       "    </tr>\n",
       "    <tr>\n",
       "      <th>33</th>\n",
       "      <td>Video Games</td>\n",
       "      <td>4000</td>\n",
       "    </tr>\n",
       "    <tr>\n",
       "      <th>78</th>\n",
       "      <td>Product Design</td>\n",
       "      <td>4000</td>\n",
       "    </tr>\n",
       "    <tr>\n",
       "      <th>76</th>\n",
       "      <td>Country &amp; Folk</td>\n",
       "      <td>4000</td>\n",
       "    </tr>\n",
       "    <tr>\n",
       "      <th>74</th>\n",
       "      <td>Narrative Film</td>\n",
       "      <td>4000</td>\n",
       "    </tr>\n",
       "    <tr>\n",
       "      <th>17</th>\n",
       "      <td>Webseries</td>\n",
       "      <td>4000</td>\n",
       "    </tr>\n",
       "    <tr>\n",
       "      <th>16</th>\n",
       "      <td>Documentary</td>\n",
       "      <td>4000</td>\n",
       "    </tr>\n",
       "  </tbody>\n",
       "</table>\n",
       "</div>"
      ],
      "text/plain": [
       "                topic     n\n",
       "39                Web  4476\n",
       "14               Apps  4000\n",
       "126  Children's Books  4000\n",
       "100        Indie Rock  4000\n",
       "33        Video Games  4000\n",
       "78     Product Design  4000\n",
       "76     Country & Folk  4000\n",
       "74     Narrative Film  4000\n",
       "17          Webseries  4000\n",
       "16        Documentary  4000"
      ]
     },
     "execution_count": 5,
     "metadata": {},
     "output_type": "execute_result"
    }
   ],
   "source": [
    "# Get data\n",
    "dk = custom.DatabaseKick()\n",
    "cur = dk.connect()\n",
    "\n",
    "cur.execute(\"SELECT topic, COUNT(*) FROM info GROUP BY topic\")\n",
    "rows = cur.fetchall()\n",
    "df = pd.DataFrame(rows, columns=[\"topic\", \"n\"])\n",
    "\n",
    "df.sort_values(by=\"n\", ascending=False).head(10)"
   ]
  },
  {
   "cell_type": "markdown",
   "metadata": {},
   "source": [
    "- we show the top 10 topics\n",
    "- \"Documentary\" seems interesting\n",
    "- we want enough samples"
   ]
  },
  {
   "cell_type": "code",
   "execution_count": 6,
   "metadata": {
    "collapsed": false
   },
   "outputs": [
    {
     "name": "stdout",
     "output_type": "stream",
     "text": [
      "(4000, 2)\n"
     ]
    },
    {
     "data": {
      "text/html": [
       "<div>\n",
       "<table border=\"1\" class=\"dataframe\">\n",
       "  <thead>\n",
       "    <tr style=\"text-align: right;\">\n",
       "      <th></th>\n",
       "      <th>id</th>\n",
       "      <th>document</th>\n",
       "    </tr>\n",
       "  </thead>\n",
       "  <tbody>\n",
       "    <tr>\n",
       "      <th>0</th>\n",
       "      <td>677283457</td>\n",
       "      <td>Hackers in Uganda: A Documentary</td>\n",
       "    </tr>\n",
       "    <tr>\n",
       "      <th>1</th>\n",
       "      <td>766993194</td>\n",
       "      <td>\"LESLIE\"</td>\n",
       "    </tr>\n",
       "    <tr>\n",
       "      <th>2</th>\n",
       "      <td>892572813</td>\n",
       "      <td>Hardwater</td>\n",
       "    </tr>\n",
       "    <tr>\n",
       "      <th>3</th>\n",
       "      <td>1851676788</td>\n",
       "      <td>Following Boruch</td>\n",
       "    </tr>\n",
       "    <tr>\n",
       "      <th>4</th>\n",
       "      <td>518903190</td>\n",
       "      <td>11/4/08</td>\n",
       "    </tr>\n",
       "  </tbody>\n",
       "</table>\n",
       "</div>"
      ],
      "text/plain": [
       "           id                          document\n",
       "0   677283457  Hackers in Uganda: A Documentary\n",
       "1   766993194                          \"LESLIE\"\n",
       "2   892572813                         Hardwater\n",
       "3  1851676788                  Following Boruch\n",
       "4   518903190                           11/4/08"
      ]
     },
     "execution_count": 6,
     "metadata": {},
     "output_type": "execute_result"
    }
   ],
   "source": [
    "# Get project names where topic is Documentary\n",
    "cur.execute(\"SELECT id, name FROM info WHERE topic = 'Documentary'\")\n",
    "rows = cur.fetchall()\n",
    "df = pd.DataFrame(rows, columns=[\"id\", \"document\"])\n",
    "\n",
    "print(df.shape)\n",
    "df.head()"
   ]
  },
  {
   "cell_type": "code",
   "execution_count": 7,
   "metadata": {
    "collapsed": true
   },
   "outputs": [],
   "source": [
    "dk.disconnect()"
   ]
  },
  {
   "cell_type": "code",
   "execution_count": 8,
   "metadata": {
    "collapsed": false
   },
   "outputs": [
    {
     "data": {
      "text/plain": [
       "0                              hacker uganda documentari\n",
       "1                                                  lesli\n",
       "2                                                hardwat\n",
       "3                                          follow boruch\n",
       "4                                                       \n",
       "5                    live alon conni convers documentari\n",
       "6                                      leav atlanta film\n",
       "7                           dejavu dissect memori camera\n",
       "8                   far isnt far enough tomi unger stori\n",
       "9       bee chang nation campaign vanish bee documentari\n",
       "10                                      boon documentari\n",
       "11                    way back yarasquin coffe pilgrimag\n",
       "12      good grief make cartoon colleg documentari comic\n",
       "13                            leon claxton harlem havana\n",
       "14                                     clown documentari\n",
       "15                    xoxosm documentari love st centuri\n",
       "16                       pow wow share art commun hawaii\n",
       "17             mother earth documentari earthbound begin\n",
       "18                    start revolut new documentari film\n",
       "19                           colossu destini melvin tale\n",
       "20              escaramuza ride heart featur documentari\n",
       "21                                            empir film\n",
       "22                                        last cosmonaut\n",
       "23                      american winter documentari film\n",
       "24                    moment stori boston women movement\n",
       "25                                         garden summer\n",
       "26                                    event life al hawk\n",
       "27                                        unchart amazon\n",
       "28                                 la tierra de lo adios\n",
       "29                                islam futur toler movi\n",
       "                              ...                       \n",
       "3970        bob ferbrach denver sound beyond documentari\n",
       "3971        everi everyth music life time grant hart ver\n",
       "3972                                           east west\n",
       "3973                           question documentari seri\n",
       "3974                             bring heavi houston dvd\n",
       "3975              peacemak project documentari refuge us\n",
       "3976                                        journey home\n",
       "3977                        one man one cano two countri\n",
       "3978       shredweis present bala perdida americana tour\n",
       "3979                    dvd germanamerican steuben parad\n",
       "3980                 bloodlin art life vincent castiglia\n",
       "3981                                         random kind\n",
       "3982                                 get money life road\n",
       "3983                     reinvent paint upcycl mix media\n",
       "3984                               peopl problem mani us\n",
       "3985                     alabama beauti documentari film\n",
       "3986                                          santa clau\n",
       "3987                        lost gener untold stori adhd\n",
       "3988                                           race zero\n",
       "3989                                           bell ring\n",
       "3990                                        fatal promis\n",
       "3991         bali life orphanag documentari post product\n",
       "3992                          high plain heritag project\n",
       "3993                doityourself music scene documentari\n",
       "3994                                         licens pimp\n",
       "3995                                       boy meet drag\n",
       "3996             beer peopl explor michigan beer breweri\n",
       "3997       free rang heritag meet hope rockumentari film\n",
       "3998                 cook cleveland culinari documentari\n",
       "3999               basco balikbayan project journey root\n",
       "Name: doc_processed, dtype: object"
      ]
     },
     "execution_count": 8,
     "metadata": {},
     "output_type": "execute_result"
    }
   ],
   "source": [
    "sim_doc.preprocess_data(df)"
   ]
  },
  {
   "cell_type": "code",
   "execution_count": 13,
   "metadata": {
    "collapsed": false
   },
   "outputs": [],
   "source": [
    "df[[\"id\", \"doc_processed\"]].to_csv(\"day61.txt\", index=False)"
   ]
  },
  {
   "cell_type": "code",
   "execution_count": null,
   "metadata": {
    "collapsed": true
   },
   "outputs": [],
   "source": []
  }
 ],
 "metadata": {
  "kernelspec": {
   "display_name": "Python 3",
   "language": "python",
   "name": "python3"
  },
  "language_info": {
   "codemirror_mode": {
    "name": "ipython",
    "version": 3
   },
   "file_extension": ".py",
   "mimetype": "text/x-python",
   "name": "python",
   "nbconvert_exporter": "python",
   "pygments_lexer": "ipython3",
   "version": "3.6.1"
  }
 },
 "nbformat": 4,
 "nbformat_minor": 2
}
