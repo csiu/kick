{
 "cells": [
  {
   "cell_type": "code",
   "execution_count": 1,
   "metadata": {
    "collapsed": true
   },
   "outputs": [],
   "source": [
    "import pandas as pd\n",
    "import matplotlib.pyplot as plt\n",
    "import seaborn as sns"
   ]
  },
  {
   "cell_type": "code",
   "execution_count": 2,
   "metadata": {
    "collapsed": true
   },
   "outputs": [],
   "source": [
    "%matplotlib inline"
   ]
  },
  {
   "cell_type": "markdown",
   "metadata": {},
   "source": [
    "I have the $U$, $\\Sigma$, and $V$ matrices, now I want to do something with it\n",
    "\n",
    "- $U$ - documents\n",
    "- $\\Sigma$ - interaction between documents and words\n",
    "- $V$ - words\n",
    "\n",
    "Want to look at: give a document, what is the closest document.\n",
    "\n",
    "(But first we will restart the whole process to ensure ids match)"
   ]
  },
  {
   "cell_type": "markdown",
   "metadata": {},
   "source": [
    "### Getting factorized matrices from Day 53\n",
    "\n",
    "- Let say use 100 components"
   ]
  },
  {
   "cell_type": "code",
   "execution_count": 3,
   "metadata": {
    "collapsed": true
   },
   "outputs": [],
   "source": [
    "import numpy as np\n",
    "from scipy.sparse import csr_matrix\n",
    "\n",
    "def save_sparse_csr(filename, array):\n",
    "    # note that .npz extension is added automatically\n",
    "    np.savez(filename, data=array.data, indices=array.indices,\n",
    "             indptr=array.indptr, shape=array.shape)\n",
    "\n",
    "def load_sparse_csr(filename):\n",
    "    # here we need to add .npz extension manually\n",
    "    loader = np.load(filename + '.npz')\n",
    "    return csr_matrix((loader['data'], loader['indices'], loader['indptr']),\n",
    "                      shape=loader['shape'])"
   ]
  },
  {
   "cell_type": "code",
   "execution_count": 4,
   "metadata": {
    "collapsed": true
   },
   "outputs": [],
   "source": [
    "wc_file = \"../../data/documents/word_counts.txt\"\n",
    "X = load_sparse_csr(wc_file)"
   ]
  },
  {
   "cell_type": "code",
   "execution_count": 5,
   "metadata": {
    "collapsed": true
   },
   "outputs": [],
   "source": [
    "from sklearn.utils.extmath import randomized_svd\n",
    "\n",
    "U, s, Vh = randomized_svd(X, n_components=100, n_iter=5, random_state=5)"
   ]
  },
  {
   "cell_type": "code",
   "execution_count": 6,
   "metadata": {
    "collapsed": false
   },
   "outputs": [
    {
     "data": {
      "text/plain": [
       "((177140, 100), (100,), (100, 99946))"
      ]
     },
     "execution_count": 6,
     "metadata": {},
     "output_type": "execute_result"
    }
   ],
   "source": [
    "U.shape, s.shape, Vh.shape"
   ]
  },
  {
   "cell_type": "markdown",
   "metadata": {},
   "source": [
    "### Compute distances\n",
    "\n",
    "In text analysis, people generally use Euclidean or Cosine distances."
   ]
  },
  {
   "cell_type": "code",
   "execution_count": 7,
   "metadata": {
    "collapsed": true
   },
   "outputs": [],
   "source": [
    "from sklearn.metrics import pairwise_distances\n",
    "\n",
    "# dist = pairwise_distances(U, U, metric='euclidean')\n",
    "# dist = pairwise_distances(U, U, metric='cosine')"
   ]
  },
  {
   "cell_type": "markdown",
   "metadata": {},
   "source": [
    "With regards to finding the closest document, will use matrix $U$.\n",
    "\n",
    "Trying to compute the pairwise of all pairs -- crashed my laptop. Better not try that again. As a work around, we are able to for a given document, calculate this distance with every other document.\n",
    "\n",
    "1 to many (yes) vs many to many (no)."
   ]
  },
  {
   "cell_type": "code",
   "execution_count": 8,
   "metadata": {
    "collapsed": false,
    "scrolled": true
   },
   "outputs": [
    {
     "data": {
      "text/plain": [
       "array([[  6.58544508e-10,   2.91702575e-02,   4.66361619e-02, ...,\n",
       "          2.20488609e-02,   3.71456636e-02,   3.08945979e-02]])"
      ]
     },
     "execution_count": 8,
     "metadata": {},
     "output_type": "execute_result"
    }
   ],
   "source": [
    "# Look at first document\n",
    "dist = pairwise_distances(np.asmatrix(U[0]), U, metric='euclidean')\n",
    "dist"
   ]
  },
  {
   "cell_type": "code",
   "execution_count": 9,
   "metadata": {
    "collapsed": false
   },
   "outputs": [
    {
     "data": {
      "text/plain": [
       "<matplotlib.text.Text at 0x12a97a748>"
      ]
     },
     "execution_count": 9,
     "metadata": {},
     "output_type": "execute_result"
    },
    {
     "data": {
      "image/png": "[encoded data removed]",
      "text/plain": [
       "<matplotlib.figure.Figure at 0x12a95b048>"
      ]
     },
     "metadata": {},
     "output_type": "display_data"
    }
   ],
   "source": [
    "# Distribution of distances\n",
    "df_dist = pd.DataFrame(np.transpose(dist), columns=[\"dist\"])\n",
    "\n",
    "pd.DataFrame(df_dist).plot.kde(legend=False)\n",
    "plt.xlabel(\"Distance\")"
   ]
  },
  {
   "cell_type": "code",
   "execution_count": 10,
   "metadata": {
    "collapsed": false,
    "scrolled": true
   },
   "outputs": [
    {
     "data": {
      "text/html": [
       "<div>\n",
       "<table border=\"1\" class=\"dataframe\">\n",
       "  <thead>\n",
       "    <tr style=\"text-align: right;\">\n",
       "      <th></th>\n",
       "      <th>dist</th>\n",
       "    </tr>\n",
       "  </thead>\n",
       "  <tbody>\n",
       "    <tr>\n",
       "      <th>0</th>\n",
       "      <td>6.585445e-10</td>\n",
       "    </tr>\n",
       "    <tr>\n",
       "      <th>131582</th>\n",
       "      <td>1.690946e-02</td>\n",
       "    </tr>\n",
       "    <tr>\n",
       "      <th>131258</th>\n",
       "      <td>1.705223e-02</td>\n",
       "    </tr>\n",
       "    <tr>\n",
       "      <th>129792</th>\n",
       "      <td>1.722522e-02</td>\n",
       "    </tr>\n",
       "    <tr>\n",
       "      <th>159369</th>\n",
       "      <td>1.842629e-02</td>\n",
       "    </tr>\n",
       "  </tbody>\n",
       "</table>\n",
       "</div>"
      ],
      "text/plain": [
       "                dist\n",
       "0       6.585445e-10\n",
       "131582  1.690946e-02\n",
       "131258  1.705223e-02\n",
       "129792  1.722522e-02\n",
       "159369  1.842629e-02"
      ]
     },
     "execution_count": 10,
     "metadata": {},
     "output_type": "execute_result"
    }
   ],
   "source": [
    "# Sort by distance\n",
    "top_5 = df_dist.sort_values(\"dist\").head()\n",
    "top_5"
   ]
  },
  {
   "cell_type": "markdown",
   "metadata": {},
   "source": [
    "Closest document always going to be self. Sanity check passed."
   ]
  },
  {
   "cell_type": "markdown",
   "metadata": {},
   "source": [
    "### Identify documents\n",
    "\n",
    "Data was previously saved in \"doc_proc2.txt\" where column 1 is id and column 2 is text"
   ]
  },
  {
   "cell_type": "code",
   "execution_count": 11,
   "metadata": {
    "collapsed": false
   },
   "outputs": [],
   "source": [
    "df = pd.read_csv(\"../../data/documents/doc_proc2.txt\", sep=\"\\t\", names=[\"id\", \"document\"])\n",
    "df_original = pd.read_csv(\"../../data/documents/doc.txt\", sep=\"\\t\", names=[\"id\", \"document\"])"
   ]
  },
  {
   "cell_type": "code",
   "execution_count": 12,
   "metadata": {
    "collapsed": false
   },
   "outputs": [
    {
     "data": {
      "text/html": [
       "<div>\n",
       "<table border=\"1\" class=\"dataframe\">\n",
       "  <thead>\n",
       "    <tr style=\"text-align: right;\">\n",
       "      <th></th>\n",
       "      <th>id</th>\n",
       "      <th>document</th>\n",
       "    </tr>\n",
       "  </thead>\n",
       "  <tbody>\n",
       "    <tr>\n",
       "      <th>0</th>\n",
       "      <td>1312331512</td>\n",
       "      <td>fulli develop anim seri requir profession anim...</td>\n",
       "    </tr>\n",
       "    <tr>\n",
       "      <th>131582</th>\n",
       "      <td>1939908068</td>\n",
       "      <td>hamstrong anim seri hamster mission escap anim...</td>\n",
       "    </tr>\n",
       "    <tr>\n",
       "      <th>131258</th>\n",
       "      <td>542664697</td>\n",
       "      <td>never watch anim challeng watch seri anim non ...</td>\n",
       "    </tr>\n",
       "    <tr>\n",
       "      <th>129792</th>\n",
       "      <td>74332521</td>\n",
       "      <td>detroit farm anim seri farm anim daili struggl...</td>\n",
       "    </tr>\n",
       "    <tr>\n",
       "      <th>159369</th>\n",
       "      <td>1672120020</td>\n",
       "      <td>hope kickstart anim career new anim seri</td>\n",
       "    </tr>\n",
       "  </tbody>\n",
       "</table>\n",
       "</div>"
      ],
      "text/plain": [
       "                id                                           document\n",
       "0       1312331512  fulli develop anim seri requir profession anim...\n",
       "131582  1939908068  hamstrong anim seri hamster mission escap anim...\n",
       "131258   542664697  never watch anim challeng watch seri anim non ...\n",
       "129792    74332521  detroit farm anim seri farm anim daili struggl...\n",
       "159369  1672120020           hope kickstart anim career new anim seri"
      ]
     },
     "execution_count": 12,
     "metadata": {},
     "output_type": "execute_result"
    }
   ],
   "source": [
    "df.iloc[top_5.index]"
   ]
  },
  {
   "cell_type": "code",
   "execution_count": 13,
   "metadata": {
    "collapsed": false,
    "scrolled": false
   },
   "outputs": [
    {
     "name": "stdout",
     "output_type": "stream",
     "text": [
      ">> 1312331512 | fulli develop anim seri requir profession anim first homeanim ep onlin\n",
      "We have a fully developed 2D animated series that requires more professional animation. Our first 2 home-animated eps are up online.\n",
      "\n",
      "\n",
      ">> 1939908068 | hamstrong anim seri hamster mission escap anim test laboratori\n",
      "Hamstrong is an animated series about a hamster on a mission to escape an animal testing laboratory.\n",
      "\n",
      "\n",
      ">> 542664697 | never watch anim challeng watch seri anim non stop intend document crazi happen\n",
      "I have never watched anime and I have been challenged to watch 10 series of anime non stop. I intend to document the crazy that happens\n",
      "\n",
      "\n",
      ">> 74332521 | detroit farm anim seri farm anim daili struggl grow urban area detroit mi\n",
      "Detroit Farm is an animated series about farm animals and their daily struggles of growing up in an urban area such as Detroit, MI.\n",
      "\n",
      "\n",
      ">> 1672120020 | hope kickstart anim career new anim seri\n",
      "This is to (hopefully) 'kickstart' my animation career and a new animated series.\n",
      "\n",
      "\n"
     ]
    }
   ],
   "source": [
    "for index, row in df.iloc[top_5.index].iterrows():\n",
    "    original_text = df_original[df_original['id'] == row['id']].iloc[0]['document']\n",
    "    \n",
    "    print('>> %s | %s' % (row['id'], row['document']),\n",
    "          original_text, \"\\n\", sep=\"\\n\")\n",
    "    "
   ]
  },
  {
   "cell_type": "markdown",
   "metadata": {},
   "source": [
    "Looking good -- they are all about anime"
   ]
  }
 ],
 "metadata": {
  "kernelspec": {
   "display_name": "Python 3",
   "language": "python",
   "name": "python3"
  },
  "language_info": {
   "codemirror_mode": {
    "name": "ipython",
    "version": 3
   },
   "file_extension": ".py",
   "mimetype": "text/x-python",
   "name": "python",
   "nbconvert_exporter": "python",
   "pygments_lexer": "ipython3",
   "version": "3.6.1"
  }
 },
 "nbformat": 4,
 "nbformat_minor": 2
}
