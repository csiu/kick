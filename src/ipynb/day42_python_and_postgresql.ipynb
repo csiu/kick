{
 "cells": [
  {
   "cell_type": "markdown",
   "metadata": {},
   "source": [
    "### Start PostgreSQL server & Create database\n",
    "\n",
    "Do this first\n",
    "\n",
    "```\n",
    "# init Postgres\n",
    "initdb postgres\n",
    "\n",
    "# start the postgres server\n",
    "pg_ctl -D postgres start\n",
    "\n",
    "# create your database\n",
    "createdb testdb\n",
    "```\n",
    "\n",
    "Then start the jupyter-notebook"
   ]
  },
  {
   "cell_type": "markdown",
   "metadata": {},
   "source": [
    "### Connecting Python to PostgreSQL\n",
    "[PostgreSQL - Python Interface](https://www.tutorialspoint.com/postgresql/postgresql_python.htm)"
   ]
  },
  {
   "cell_type": "code",
   "execution_count": 1,
   "metadata": {
    "collapsed": true
   },
   "outputs": [],
   "source": [
    "import psycopg2"
   ]
  },
  {
   "cell_type": "code",
   "execution_count": 2,
   "metadata": {
    "collapsed": false
   },
   "outputs": [],
   "source": [
    "conn = psycopg2.connect(dbname='testdb')"
   ]
  },
  {
   "cell_type": "code",
   "execution_count": 3,
   "metadata": {
    "collapsed": false
   },
   "outputs": [],
   "source": [
    "# creates a cursor which will be used throughout of your database programming with Python\n",
    "cur = conn.cursor()"
   ]
  },
  {
   "cell_type": "markdown",
   "metadata": {},
   "source": [
    "### Creating a table\n",
    "\n",
    "[PostgreSQL Python: Create Tables](http://www.postgresqltutorial.com/postgresql-python/create-tables/) to create new tables in the PostgreSQL database using Python."
   ]
  },
  {
   "cell_type": "code",
   "execution_count": 4,
   "metadata": {
    "collapsed": false
   },
   "outputs": [],
   "source": [
    "my_table = \"newtable\"\n",
    "\n",
    "command = \"\"\"\n",
    "        CREATE TABLE {table} (\n",
    "            color_id SERIAL PRIMARY KEY,\n",
    "            color_name VARCHAR(255) NOT NULL\n",
    "        )\"\"\".format(table=my_table)"
   ]
  },
  {
   "cell_type": "code",
   "execution_count": 5,
   "metadata": {
    "collapsed": false
   },
   "outputs": [],
   "source": [
    "cur.execute(command)"
   ]
  },
  {
   "cell_type": "markdown",
   "metadata": {},
   "source": [
    "### Inserting data into table\n",
    "\n",
    "**One row**\n",
    "\n",
    "`cursor.execute(sql [, optional parameters])`\n",
    "\n",
    "This routine executes an SQL statement. The SQL statement may be parameterized (i.e., placeholders instead of SQL literals). The psycopg2 module supports placeholder using %s sign. For example:\n",
    "\n",
    "`cursor.execute(\"insert into people values (%s, %s)\", (who, age))`\n"
   ]
  },
  {
   "cell_type": "code",
   "execution_count": 6,
   "metadata": {
    "collapsed": true
   },
   "outputs": [],
   "source": [
    "sql = \"\"\"\n",
    "    INSERT INTO {table}(color_name)\n",
    "    VALUES(%s) RETURNING color_id;\"\"\".format(table=my_table)"
   ]
  },
  {
   "cell_type": "code",
   "execution_count": 7,
   "metadata": {
    "collapsed": false
   },
   "outputs": [],
   "source": [
    "# execute the INSERT statement\n",
    "cur.execute(sql, (\"red\",))"
   ]
  },
  {
   "cell_type": "markdown",
   "metadata": {},
   "source": [
    "**Many rows**\n",
    "    \n",
    "`curosr.executemany(sql, seq_of_parameters)`\n",
    "\n",
    "This routine executes an SQL command against all parameter sequences or mappings found in the sequence sql."
   ]
  },
  {
   "cell_type": "code",
   "execution_count": 8,
   "metadata": {
    "collapsed": false
   },
   "outputs": [],
   "source": [
    "vendor_names = [\n",
    "    ('orange',),\n",
    "    ('yellow',),\n",
    "    ('green',),\n",
    "    ('blue',),\n",
    "    ('indigo',),\n",
    "    ('violet',)\n",
    "]\n",
    "cur.executemany(sql, vendor_names)"
   ]
  },
  {
   "cell_type": "markdown",
   "metadata": {},
   "source": [
    "### Selecting data\n",
    "\n",
    "`cursor.fetchall()`\n",
    "\n",
    "This routine fetches all (remaining) rows of a query result, returning a list. An empty list is returned when no rows are available."
   ]
  },
  {
   "cell_type": "code",
   "execution_count": 9,
   "metadata": {
    "collapsed": true
   },
   "outputs": [],
   "source": [
    "cur.execute(\"SELECT * from {table}\".format(table=my_table))"
   ]
  },
  {
   "cell_type": "code",
   "execution_count": 10,
   "metadata": {
    "collapsed": false
   },
   "outputs": [
    {
     "name": "stdout",
     "output_type": "stream",
     "text": [
      "(1, 'red')\n",
      "(2, 'orange')\n",
      "(3, 'yellow')\n",
      "(4, 'green')\n",
      "(5, 'blue')\n",
      "(6, 'indigo')\n",
      "(7, 'violet')\n"
     ]
    }
   ],
   "source": [
    "rows = cur.fetchall()\n",
    "for row in rows:\n",
    "    print(row)"
   ]
  },
  {
   "cell_type": "markdown",
   "metadata": {},
   "source": [
    "### Commit changes\n",
    "\n",
    "`connection.commit()`\n",
    "\n",
    "This method commits the current transaction. If you don't call this method, anything you did since the last call to commit() is not visible from other database connections.\n"
   ]
  },
  {
   "cell_type": "code",
   "execution_count": 11,
   "metadata": {
    "collapsed": true
   },
   "outputs": [],
   "source": [
    "# close communication with the PostgreSQL database server\n",
    "cur.close()\n",
    "\n",
    "# commit the changes\n",
    "conn.commit()\n",
    "\n",
    "# close connection\n",
    "conn.close()"
   ]
  },
  {
   "cell_type": "markdown",
   "metadata": {},
   "source": [
    "We can also close the postgres server\n",
    "\n",
    "    pg_ctl -D postgres stop"
   ]
  }
 ],
 "metadata": {
  "kernelspec": {
   "display_name": "Python 3",
   "language": "python",
   "name": "python3"
  },
  "language_info": {
   "codemirror_mode": {
    "name": "ipython",
    "version": 3
   },
   "file_extension": ".py",
   "mimetype": "text/x-python",
   "name": "python",
   "nbconvert_exporter": "python",
   "pygments_lexer": "ipython3",
   "version": "3.6.1"
  }
 },
 "nbformat": 4,
 "nbformat_minor": 0
}
